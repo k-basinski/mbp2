{
 "cells": [
  {
   "cell_type": "code",
   "execution_count": 2,
   "metadata": {},
   "outputs": [],
   "source": [
    "import numpy as np\n",
    "import pandas as pd"
   ]
  },
  {
   "cell_type": "code",
   "execution_count": 7,
   "metadata": {},
   "outputs": [],
   "source": [
    "# configure\n",
    "means = [1, 4, 1, 4]\n",
    "N = 30\n",
    "\n",
    "f1_name = 'pobudzenie'\n",
    "f2_name = 'walencja'\n",
    "dv_name = 'wynik testu'\n",
    "\n",
    "labels_factor1 = ['niski', 'wysoki']\n",
    "labels_factor2 = ['pozytywny', 'negatywny']\n",
    "\n",
    "fname = 'dane4.csv'\n",
    "\n",
    "res = [np.random.normal(m, 1, N) for m in means]\n",
    "dv = np.concatenate(res)\n",
    "\n",
    "f1 = np.repeat(labels_factor1, 2*N)\n",
    "f2 = np.tile(np.repeat(labels_factor2, N), 2)\n",
    "\n",
    "df = pd.DataFrame({\n",
    "    f1_name: f1,\n",
    "    f2_name: f2,\n",
    "    dv_name: dv\n",
    "})\n",
    "\n",
    "df.to_csv(fname)"
   ]
  },
  {
   "cell_type": "code",
   "execution_count": 16,
   "metadata": {},
   "outputs": [
    {
     "data": {
      "text/plain": [
       "120"
      ]
     },
     "execution_count": 16,
     "metadata": {},
     "output_type": "execute_result"
    }
   ],
   "source": [
    "len(dv)"
   ]
  },
  {
   "cell_type": "code",
   "execution_count": null,
   "metadata": {},
   "outputs": [],
   "source": []
  }
 ],
 "metadata": {
  "interpreter": {
   "hash": "c6e4e9f98eb68ad3b7c296f83d20e6de614cb42e90992a65aa266555a3137d0d"
  },
  "kernelspec": {
   "display_name": "Python 3.9.7 64-bit ('base': conda)",
   "language": "python",
   "name": "python3"
  },
  "language_info": {
   "codemirror_mode": {
    "name": "ipython",
    "version": 3
   },
   "file_extension": ".py",
   "mimetype": "text/x-python",
   "name": "python",
   "nbconvert_exporter": "python",
   "pygments_lexer": "ipython3",
   "version": "3.9.7"
  },
  "orig_nbformat": 4
 },
 "nbformat": 4,
 "nbformat_minor": 2
}
